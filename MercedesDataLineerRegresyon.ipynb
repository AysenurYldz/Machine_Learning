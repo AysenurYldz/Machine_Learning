{
 "cells": [
  {
   "cell_type": "code",
   "execution_count": 1,
   "id": "8711e05b",
   "metadata": {},
   "outputs": [],
   "source": [
    "import numpy as np\n",
    "import pandas as pd\n",
    "import seaborn as sns\n",
    "import matplotlib.pyplot as plt\n",
    "from sklearn.linear_model import LinearRegression\n",
    "from sklearn.metrics import r2_score, mean_absolute_error, mean_squared_error\n",
    "from sklearn.model_selection import train_test_split"
   ]
  },
  {
   "cell_type": "code",
   "execution_count": 2,
   "id": "6d2bf115",
   "metadata": {},
   "outputs": [
    {
     "data": {
      "text/html": [
       "<div>\n",
       "<style scoped>\n",
       "    .dataframe tbody tr th:only-of-type {\n",
       "        vertical-align: middle;\n",
       "    }\n",
       "\n",
       "    .dataframe tbody tr th {\n",
       "        vertical-align: top;\n",
       "    }\n",
       "\n",
       "    .dataframe thead th {\n",
       "        text-align: right;\n",
       "    }\n",
       "</style>\n",
       "<table border=\"1\" class=\"dataframe\">\n",
       "  <thead>\n",
       "    <tr style=\"text-align: right;\">\n",
       "      <th></th>\n",
       "      <th>year</th>\n",
       "      <th>price</th>\n",
       "      <th>transmission</th>\n",
       "      <th>mileage</th>\n",
       "      <th>tax</th>\n",
       "      <th>mpg</th>\n",
       "      <th>engineSize</th>\n",
       "    </tr>\n",
       "  </thead>\n",
       "  <tbody>\n",
       "    <tr>\n",
       "      <th>0</th>\n",
       "      <td>2005</td>\n",
       "      <td>5200</td>\n",
       "      <td>Automatic</td>\n",
       "      <td>63000</td>\n",
       "      <td>325</td>\n",
       "      <td>32.1</td>\n",
       "      <td>1.8</td>\n",
       "    </tr>\n",
       "    <tr>\n",
       "      <th>1</th>\n",
       "      <td>2017</td>\n",
       "      <td>34948</td>\n",
       "      <td>Automatic</td>\n",
       "      <td>27000</td>\n",
       "      <td>20</td>\n",
       "      <td>61.4</td>\n",
       "      <td>2.1</td>\n",
       "    </tr>\n",
       "    <tr>\n",
       "      <th>2</th>\n",
       "      <td>2016</td>\n",
       "      <td>49948</td>\n",
       "      <td>Automatic</td>\n",
       "      <td>6200</td>\n",
       "      <td>555</td>\n",
       "      <td>28.0</td>\n",
       "      <td>5.5</td>\n",
       "    </tr>\n",
       "    <tr>\n",
       "      <th>3</th>\n",
       "      <td>2016</td>\n",
       "      <td>61948</td>\n",
       "      <td>Automatic</td>\n",
       "      <td>16000</td>\n",
       "      <td>325</td>\n",
       "      <td>30.4</td>\n",
       "      <td>4.0</td>\n",
       "    </tr>\n",
       "    <tr>\n",
       "      <th>4</th>\n",
       "      <td>2016</td>\n",
       "      <td>73948</td>\n",
       "      <td>Automatic</td>\n",
       "      <td>4000</td>\n",
       "      <td>325</td>\n",
       "      <td>30.1</td>\n",
       "      <td>4.0</td>\n",
       "    </tr>\n",
       "    <tr>\n",
       "      <th>...</th>\n",
       "      <td>...</td>\n",
       "      <td>...</td>\n",
       "      <td>...</td>\n",
       "      <td>...</td>\n",
       "      <td>...</td>\n",
       "      <td>...</td>\n",
       "      <td>...</td>\n",
       "    </tr>\n",
       "    <tr>\n",
       "      <th>13114</th>\n",
       "      <td>2020</td>\n",
       "      <td>35999</td>\n",
       "      <td>Automatic</td>\n",
       "      <td>500</td>\n",
       "      <td>145</td>\n",
       "      <td>55.4</td>\n",
       "      <td>2.0</td>\n",
       "    </tr>\n",
       "    <tr>\n",
       "      <th>13115</th>\n",
       "      <td>2020</td>\n",
       "      <td>24699</td>\n",
       "      <td>Automatic</td>\n",
       "      <td>2500</td>\n",
       "      <td>145</td>\n",
       "      <td>55.4</td>\n",
       "      <td>2.0</td>\n",
       "    </tr>\n",
       "    <tr>\n",
       "      <th>13116</th>\n",
       "      <td>2019</td>\n",
       "      <td>30999</td>\n",
       "      <td>Automatic</td>\n",
       "      <td>11612</td>\n",
       "      <td>145</td>\n",
       "      <td>41.5</td>\n",
       "      <td>2.1</td>\n",
       "    </tr>\n",
       "    <tr>\n",
       "      <th>13117</th>\n",
       "      <td>2019</td>\n",
       "      <td>37990</td>\n",
       "      <td>Automatic</td>\n",
       "      <td>2426</td>\n",
       "      <td>145</td>\n",
       "      <td>45.6</td>\n",
       "      <td>2.0</td>\n",
       "    </tr>\n",
       "    <tr>\n",
       "      <th>13118</th>\n",
       "      <td>2019</td>\n",
       "      <td>54999</td>\n",
       "      <td>Automatic</td>\n",
       "      <td>2075</td>\n",
       "      <td>145</td>\n",
       "      <td>52.3</td>\n",
       "      <td>2.9</td>\n",
       "    </tr>\n",
       "  </tbody>\n",
       "</table>\n",
       "<p>13119 rows × 7 columns</p>\n",
       "</div>"
      ],
      "text/plain": [
       "       year  price transmission  mileage  tax   mpg  engineSize\n",
       "0      2005   5200    Automatic    63000  325  32.1         1.8\n",
       "1      2017  34948    Automatic    27000   20  61.4         2.1\n",
       "2      2016  49948    Automatic     6200  555  28.0         5.5\n",
       "3      2016  61948    Automatic    16000  325  30.4         4.0\n",
       "4      2016  73948    Automatic     4000  325  30.1         4.0\n",
       "...     ...    ...          ...      ...  ...   ...         ...\n",
       "13114  2020  35999    Automatic      500  145  55.4         2.0\n",
       "13115  2020  24699    Automatic     2500  145  55.4         2.0\n",
       "13116  2019  30999    Automatic    11612  145  41.5         2.1\n",
       "13117  2019  37990    Automatic     2426  145  45.6         2.0\n",
       "13118  2019  54999    Automatic     2075  145  52.3         2.9\n",
       "\n",
       "[13119 rows x 7 columns]"
      ]
     },
     "execution_count": 2,
     "metadata": {},
     "output_type": "execute_result"
    }
   ],
   "source": [
    "#excel dosyasını csv formatına dönüştürme ve veriyi yukleme\n",
    "read_file = pd.read_excel (\"mercedes.xlsx\") \n",
    "read_file.to_csv (\"mercedes.csv\",  \n",
    "                  index = None, \n",
    "                  header=True) \n",
    "data = pd.DataFrame(pd.read_csv(\"mercedes.csv\")) \n",
    "data "
   ]
  },
  {
   "cell_type": "code",
   "execution_count": 3,
   "id": "fe7ebadd",
   "metadata": {},
   "outputs": [
    {
     "data": {
      "text/html": [
       "<div>\n",
       "<style scoped>\n",
       "    .dataframe tbody tr th:only-of-type {\n",
       "        vertical-align: middle;\n",
       "    }\n",
       "\n",
       "    .dataframe tbody tr th {\n",
       "        vertical-align: top;\n",
       "    }\n",
       "\n",
       "    .dataframe thead th {\n",
       "        text-align: right;\n",
       "    }\n",
       "</style>\n",
       "<table border=\"1\" class=\"dataframe\">\n",
       "  <thead>\n",
       "    <tr style=\"text-align: right;\">\n",
       "      <th></th>\n",
       "      <th>year</th>\n",
       "      <th>price</th>\n",
       "      <th>transmission</th>\n",
       "      <th>mileage</th>\n",
       "      <th>tax</th>\n",
       "      <th>mpg</th>\n",
       "      <th>engineSize</th>\n",
       "    </tr>\n",
       "  </thead>\n",
       "  <tbody>\n",
       "    <tr>\n",
       "      <th>0</th>\n",
       "      <td>2005</td>\n",
       "      <td>5200</td>\n",
       "      <td>Automatic</td>\n",
       "      <td>63000</td>\n",
       "      <td>325</td>\n",
       "      <td>32.1</td>\n",
       "      <td>1.8</td>\n",
       "    </tr>\n",
       "    <tr>\n",
       "      <th>1</th>\n",
       "      <td>2017</td>\n",
       "      <td>34948</td>\n",
       "      <td>Automatic</td>\n",
       "      <td>27000</td>\n",
       "      <td>20</td>\n",
       "      <td>61.4</td>\n",
       "      <td>2.1</td>\n",
       "    </tr>\n",
       "    <tr>\n",
       "      <th>2</th>\n",
       "      <td>2016</td>\n",
       "      <td>49948</td>\n",
       "      <td>Automatic</td>\n",
       "      <td>6200</td>\n",
       "      <td>555</td>\n",
       "      <td>28.0</td>\n",
       "      <td>5.5</td>\n",
       "    </tr>\n",
       "    <tr>\n",
       "      <th>3</th>\n",
       "      <td>2016</td>\n",
       "      <td>61948</td>\n",
       "      <td>Automatic</td>\n",
       "      <td>16000</td>\n",
       "      <td>325</td>\n",
       "      <td>30.4</td>\n",
       "      <td>4.0</td>\n",
       "    </tr>\n",
       "    <tr>\n",
       "      <th>4</th>\n",
       "      <td>2016</td>\n",
       "      <td>73948</td>\n",
       "      <td>Automatic</td>\n",
       "      <td>4000</td>\n",
       "      <td>325</td>\n",
       "      <td>30.1</td>\n",
       "      <td>4.0</td>\n",
       "    </tr>\n",
       "    <tr>\n",
       "      <th>5</th>\n",
       "      <td>2011</td>\n",
       "      <td>149948</td>\n",
       "      <td>Automatic</td>\n",
       "      <td>3000</td>\n",
       "      <td>570</td>\n",
       "      <td>21.4</td>\n",
       "      <td>6.2</td>\n",
       "    </tr>\n",
       "    <tr>\n",
       "      <th>6</th>\n",
       "      <td>2018</td>\n",
       "      <td>30948</td>\n",
       "      <td>Automatic</td>\n",
       "      <td>16000</td>\n",
       "      <td>145</td>\n",
       "      <td>47.9</td>\n",
       "      <td>2.1</td>\n",
       "    </tr>\n",
       "    <tr>\n",
       "      <th>7</th>\n",
       "      <td>2012</td>\n",
       "      <td>10948</td>\n",
       "      <td>Automatic</td>\n",
       "      <td>107000</td>\n",
       "      <td>265</td>\n",
       "      <td>36.7</td>\n",
       "      <td>3.5</td>\n",
       "    </tr>\n",
       "    <tr>\n",
       "      <th>8</th>\n",
       "      <td>2019</td>\n",
       "      <td>139948</td>\n",
       "      <td>Automatic</td>\n",
       "      <td>12000</td>\n",
       "      <td>145</td>\n",
       "      <td>21.4</td>\n",
       "      <td>4.0</td>\n",
       "    </tr>\n",
       "    <tr>\n",
       "      <th>9</th>\n",
       "      <td>2017</td>\n",
       "      <td>19750</td>\n",
       "      <td>Automatic</td>\n",
       "      <td>15258</td>\n",
       "      <td>30</td>\n",
       "      <td>64.2</td>\n",
       "      <td>2.1</td>\n",
       "    </tr>\n",
       "  </tbody>\n",
       "</table>\n",
       "</div>"
      ],
      "text/plain": [
       "   year   price transmission  mileage  tax   mpg  engineSize\n",
       "0  2005    5200    Automatic    63000  325  32.1         1.8\n",
       "1  2017   34948    Automatic    27000   20  61.4         2.1\n",
       "2  2016   49948    Automatic     6200  555  28.0         5.5\n",
       "3  2016   61948    Automatic    16000  325  30.4         4.0\n",
       "4  2016   73948    Automatic     4000  325  30.1         4.0\n",
       "5  2011  149948    Automatic     3000  570  21.4         6.2\n",
       "6  2018   30948    Automatic    16000  145  47.9         2.1\n",
       "7  2012   10948    Automatic   107000  265  36.7         3.5\n",
       "8  2019  139948    Automatic    12000  145  21.4         4.0\n",
       "9  2017   19750    Automatic    15258   30  64.2         2.1"
      ]
     },
     "execution_count": 3,
     "metadata": {},
     "output_type": "execute_result"
    }
   ],
   "source": [
    "data.head(10)"
   ]
  },
  {
   "cell_type": "code",
   "execution_count": 4,
   "id": "b4e49f07",
   "metadata": {},
   "outputs": [
    {
     "data": {
      "text/html": [
       "<div>\n",
       "<style scoped>\n",
       "    .dataframe tbody tr th:only-of-type {\n",
       "        vertical-align: middle;\n",
       "    }\n",
       "\n",
       "    .dataframe tbody tr th {\n",
       "        vertical-align: top;\n",
       "    }\n",
       "\n",
       "    .dataframe thead th {\n",
       "        text-align: right;\n",
       "    }\n",
       "</style>\n",
       "<table border=\"1\" class=\"dataframe\">\n",
       "  <thead>\n",
       "    <tr style=\"text-align: right;\">\n",
       "      <th></th>\n",
       "      <th>year</th>\n",
       "      <th>price</th>\n",
       "      <th>transmission</th>\n",
       "      <th>mileage</th>\n",
       "      <th>tax</th>\n",
       "      <th>mpg</th>\n",
       "      <th>engineSize</th>\n",
       "    </tr>\n",
       "  </thead>\n",
       "  <tbody>\n",
       "    <tr>\n",
       "      <th>13114</th>\n",
       "      <td>2020</td>\n",
       "      <td>35999</td>\n",
       "      <td>Automatic</td>\n",
       "      <td>500</td>\n",
       "      <td>145</td>\n",
       "      <td>55.4</td>\n",
       "      <td>2.0</td>\n",
       "    </tr>\n",
       "    <tr>\n",
       "      <th>13115</th>\n",
       "      <td>2020</td>\n",
       "      <td>24699</td>\n",
       "      <td>Automatic</td>\n",
       "      <td>2500</td>\n",
       "      <td>145</td>\n",
       "      <td>55.4</td>\n",
       "      <td>2.0</td>\n",
       "    </tr>\n",
       "    <tr>\n",
       "      <th>13116</th>\n",
       "      <td>2019</td>\n",
       "      <td>30999</td>\n",
       "      <td>Automatic</td>\n",
       "      <td>11612</td>\n",
       "      <td>145</td>\n",
       "      <td>41.5</td>\n",
       "      <td>2.1</td>\n",
       "    </tr>\n",
       "    <tr>\n",
       "      <th>13117</th>\n",
       "      <td>2019</td>\n",
       "      <td>37990</td>\n",
       "      <td>Automatic</td>\n",
       "      <td>2426</td>\n",
       "      <td>145</td>\n",
       "      <td>45.6</td>\n",
       "      <td>2.0</td>\n",
       "    </tr>\n",
       "    <tr>\n",
       "      <th>13118</th>\n",
       "      <td>2019</td>\n",
       "      <td>54999</td>\n",
       "      <td>Automatic</td>\n",
       "      <td>2075</td>\n",
       "      <td>145</td>\n",
       "      <td>52.3</td>\n",
       "      <td>2.9</td>\n",
       "    </tr>\n",
       "  </tbody>\n",
       "</table>\n",
       "</div>"
      ],
      "text/plain": [
       "       year  price transmission  mileage  tax   mpg  engineSize\n",
       "13114  2020  35999    Automatic      500  145  55.4         2.0\n",
       "13115  2020  24699    Automatic     2500  145  55.4         2.0\n",
       "13116  2019  30999    Automatic    11612  145  41.5         2.1\n",
       "13117  2019  37990    Automatic     2426  145  45.6         2.0\n",
       "13118  2019  54999    Automatic     2075  145  52.3         2.9"
      ]
     },
     "execution_count": 4,
     "metadata": {},
     "output_type": "execute_result"
    }
   ],
   "source": [
    "data.tail()"
   ]
  },
  {
   "cell_type": "code",
   "execution_count": 5,
   "id": "e5b49ed1",
   "metadata": {},
   "outputs": [
    {
     "data": {
      "text/plain": [
       "(13119, 7)"
      ]
     },
     "execution_count": 5,
     "metadata": {},
     "output_type": "execute_result"
    }
   ],
   "source": [
    "data.shape"
   ]
  },
  {
   "cell_type": "code",
   "execution_count": 6,
   "id": "af6f4da8",
   "metadata": {},
   "outputs": [
    {
     "name": "stdout",
     "output_type": "stream",
     "text": [
      "<class 'pandas.core.frame.DataFrame'>\n",
      "RangeIndex: 13119 entries, 0 to 13118\n",
      "Data columns (total 7 columns):\n",
      " #   Column        Non-Null Count  Dtype  \n",
      "---  ------        --------------  -----  \n",
      " 0   year          13119 non-null  int64  \n",
      " 1   price         13119 non-null  int64  \n",
      " 2   transmission  13119 non-null  object \n",
      " 3   mileage       13119 non-null  int64  \n",
      " 4   tax           13119 non-null  int64  \n",
      " 5   mpg           13119 non-null  float64\n",
      " 6   engineSize    13119 non-null  float64\n",
      "dtypes: float64(2), int64(4), object(1)\n",
      "memory usage: 717.6+ KB\n"
     ]
    }
   ],
   "source": [
    "data.info()"
   ]
  },
  {
   "cell_type": "code",
   "execution_count": 7,
   "id": "ee4d4157",
   "metadata": {},
   "outputs": [
    {
     "data": {
      "text/plain": [
       "Index(['year', 'price', 'transmission', 'mileage', 'tax', 'mpg', 'engineSize'], dtype='object')"
      ]
     },
     "execution_count": 7,
     "metadata": {},
     "output_type": "execute_result"
    }
   ],
   "source": [
    "data.columns"
   ]
  },
  {
   "cell_type": "code",
   "execution_count": 8,
   "id": "b5209e32",
   "metadata": {},
   "outputs": [
    {
     "data": {
      "text/plain": [
       "RangeIndex(start=0, stop=13119, step=1)"
      ]
     },
     "execution_count": 8,
     "metadata": {},
     "output_type": "execute_result"
    }
   ],
   "source": [
    "data.index"
   ]
  },
  {
   "cell_type": "code",
   "execution_count": 9,
   "id": "e3177d23",
   "metadata": {},
   "outputs": [
    {
     "data": {
      "text/html": [
       "<div>\n",
       "<style scoped>\n",
       "    .dataframe tbody tr th:only-of-type {\n",
       "        vertical-align: middle;\n",
       "    }\n",
       "\n",
       "    .dataframe tbody tr th {\n",
       "        vertical-align: top;\n",
       "    }\n",
       "\n",
       "    .dataframe thead th {\n",
       "        text-align: right;\n",
       "    }\n",
       "</style>\n",
       "<table border=\"1\" class=\"dataframe\">\n",
       "  <thead>\n",
       "    <tr style=\"text-align: right;\">\n",
       "      <th></th>\n",
       "      <th>count</th>\n",
       "      <th>mean</th>\n",
       "      <th>std</th>\n",
       "      <th>min</th>\n",
       "      <th>25%</th>\n",
       "      <th>50%</th>\n",
       "      <th>75%</th>\n",
       "      <th>max</th>\n",
       "    </tr>\n",
       "  </thead>\n",
       "  <tbody>\n",
       "    <tr>\n",
       "      <th>year</th>\n",
       "      <td>13119.0</td>\n",
       "      <td>2017.296288</td>\n",
       "      <td>2.224709</td>\n",
       "      <td>1970.0</td>\n",
       "      <td>2016.0</td>\n",
       "      <td>2018.0</td>\n",
       "      <td>2019.0</td>\n",
       "      <td>2020.0</td>\n",
       "    </tr>\n",
       "    <tr>\n",
       "      <th>price</th>\n",
       "      <td>13119.0</td>\n",
       "      <td>24698.596920</td>\n",
       "      <td>11842.675542</td>\n",
       "      <td>650.0</td>\n",
       "      <td>17450.0</td>\n",
       "      <td>22480.0</td>\n",
       "      <td>28980.0</td>\n",
       "      <td>159999.0</td>\n",
       "    </tr>\n",
       "    <tr>\n",
       "      <th>mileage</th>\n",
       "      <td>13119.0</td>\n",
       "      <td>21949.559037</td>\n",
       "      <td>21176.512267</td>\n",
       "      <td>1.0</td>\n",
       "      <td>6097.5</td>\n",
       "      <td>15189.0</td>\n",
       "      <td>31779.5</td>\n",
       "      <td>259000.0</td>\n",
       "    </tr>\n",
       "    <tr>\n",
       "      <th>tax</th>\n",
       "      <td>13119.0</td>\n",
       "      <td>129.972178</td>\n",
       "      <td>65.260286</td>\n",
       "      <td>0.0</td>\n",
       "      <td>125.0</td>\n",
       "      <td>145.0</td>\n",
       "      <td>145.0</td>\n",
       "      <td>580.0</td>\n",
       "    </tr>\n",
       "    <tr>\n",
       "      <th>mpg</th>\n",
       "      <td>13119.0</td>\n",
       "      <td>55.155843</td>\n",
       "      <td>15.220082</td>\n",
       "      <td>1.1</td>\n",
       "      <td>45.6</td>\n",
       "      <td>56.5</td>\n",
       "      <td>64.2</td>\n",
       "      <td>217.3</td>\n",
       "    </tr>\n",
       "    <tr>\n",
       "      <th>engineSize</th>\n",
       "      <td>13119.0</td>\n",
       "      <td>2.071530</td>\n",
       "      <td>0.572426</td>\n",
       "      <td>0.0</td>\n",
       "      <td>1.8</td>\n",
       "      <td>2.0</td>\n",
       "      <td>2.1</td>\n",
       "      <td>6.2</td>\n",
       "    </tr>\n",
       "  </tbody>\n",
       "</table>\n",
       "</div>"
      ],
      "text/plain": [
       "              count          mean           std     min      25%      50%  \\\n",
       "year        13119.0   2017.296288      2.224709  1970.0   2016.0   2018.0   \n",
       "price       13119.0  24698.596920  11842.675542   650.0  17450.0  22480.0   \n",
       "mileage     13119.0  21949.559037  21176.512267     1.0   6097.5  15189.0   \n",
       "tax         13119.0    129.972178     65.260286     0.0    125.0    145.0   \n",
       "mpg         13119.0     55.155843     15.220082     1.1     45.6     56.5   \n",
       "engineSize  13119.0      2.071530      0.572426     0.0      1.8      2.0   \n",
       "\n",
       "                75%       max  \n",
       "year         2019.0    2020.0  \n",
       "price       28980.0  159999.0  \n",
       "mileage     31779.5  259000.0  \n",
       "tax           145.0     580.0  \n",
       "mpg            64.2     217.3  \n",
       "engineSize      2.1       6.2  "
      ]
     },
     "execution_count": 9,
     "metadata": {},
     "output_type": "execute_result"
    }
   ],
   "source": [
    "data.describe().T"
   ]
  },
  {
   "cell_type": "code",
   "execution_count": 10,
   "id": "3f6584a5",
   "metadata": {},
   "outputs": [
    {
     "data": {
      "text/plain": [
       "False"
      ]
     },
     "execution_count": 10,
     "metadata": {},
     "output_type": "execute_result"
    }
   ],
   "source": [
    "data.isnull().values.any()"
   ]
  },
  {
   "cell_type": "code",
   "execution_count": 11,
   "id": "bbe43f67",
   "metadata": {},
   "outputs": [],
   "source": [
    "def plotBar(degisken, n=5):\n",
    "    \"\"\"\n",
    "        Girdi: Değişken/sütun ismi\n",
    "               n= Gösterilecek eşsiz değer sayısı\n",
    "        Çıktı: Çubuk Grafiği\n",
    "    \"\"\"\n",
    "    data_ =data[degisken]\n",
    "    data_sayma = data_.value_counts()\n",
    "    data_sayma = data_sayma[:n]\n",
    "    plt.figure()\n",
    "    plt.bar(data_sayma.index, data_sayma , color= \"pink\")\n",
    "    plt.xticks(data_sayma.index, data_sayma.index.values)\n",
    "    plt.xticks(rotation=40) #yazı eğikliği \n",
    "    plt.ylabel(\"Frekans\")\n",
    "    plt.title(\"Veri Sıklığı - {}\".format(degisken))\n",
    "    plt.show()\n",
    "    print(\"{}: \\n {}\".format(degisken, data_sayma))"
   ]
  },
  {
   "cell_type": "code",
   "execution_count": 12,
   "id": "07c3b39e",
   "metadata": {},
   "outputs": [
    {
     "data": {
      "image/png": "[encoded data removed]",
      "text/plain": [
       "<Figure size 432x288 with 1 Axes>"
      ]
     },
     "metadata": {
      "needs_background": "light"
     },
     "output_type": "display_data"
    },
    {
     "name": "stdout",
     "output_type": "stream",
     "text": [
      "year: \n",
      " 2019    4553\n",
      "2017    2381\n",
      "2016    1971\n",
      "2018    1467\n",
      "2015     991\n",
      "Name: year, dtype: int64\n"
     ]
    },
    {
     "data": {
      "image/png": "[encoded data removed]",
      "text/plain": [
       "<Figure size 432x288 with 1 Axes>"
      ]
     },
     "metadata": {
      "needs_background": "light"
     },
     "output_type": "display_data"
    },
    {
     "name": "stdout",
     "output_type": "stream",
     "text": [
      "transmission: \n",
      " Semi-Auto    6848\n",
      "Automatic    4825\n",
      "Manual       1444\n",
      "Other           2\n",
      "Name: transmission, dtype: int64\n"
     ]
    }
   ],
   "source": [
    "degisken = [\"year\", \"transmission\"]\n",
    "for i in degisken:\n",
    "    plotBar(i)"
   ]
  },
  {
   "cell_type": "code",
   "execution_count": 13,
   "id": "57ef9ae7",
   "metadata": {},
   "outputs": [],
   "source": [
    "def plotHistogram(degisken):\n",
    "    \"\"\"\n",
    "        Girdi: Değisken / sütun ismi\n",
    "        Çıktı: İlgili değişkenin histogramı\n",
    "    \"\"\"\n",
    "    plt.figure()\n",
    "    plt.hist(data[degisken], bins=75, color = \"blue\")\n",
    "    plt.xlabel(degisken)\n",
    "    plt.ylabel(\"Frekans\")\n",
    "    plt.title(\"Veri Sıklığı - {}\".format(degisken))\n",
    "    plt.show()"
   ]
  },
  {
   "cell_type": "code",
   "execution_count": 14,
   "id": "5f802841",
   "metadata": {},
   "outputs": [
    {
     "data": {
      "image/png": "[encoded data removed]",
      "text/plain": [
       "<Figure size 432x288 with 1 Axes>"
      ]
     },
     "metadata": {
      "needs_background": "light"
     },
     "output_type": "display_data"
    },
    {
     "data": {
      "image/png": "[encoded data removed]",
      "text/plain": [
       "<Figure size 432x288 with 1 Axes>"
      ]
     },
     "metadata": {
      "needs_background": "light"
     },
     "output_type": "display_data"
    },
    {
     "data": {
      "image/png": "[encoded data removed]",
      "text/plain": [
       "<Figure size 432x288 with 1 Axes>"
      ]
     },
     "metadata": {
      "needs_background": "light"
     },
     "output_type": "display_data"
    },
    {
     "data": {
      "image/png": "[encoded data removed]",
      "text/plain": [
       "<Figure size 432x288 with 1 Axes>"
      ]
     },
     "metadata": {
      "needs_background": "light"
     },
     "output_type": "display_data"
    },
    {
     "data": {
      "image/png": "[encoded data removed]",
      "text/plain": [
       "<Figure size 432x288 with 1 Axes>"
      ]
     },
     "metadata": {
      "needs_background": "light"
     },
     "output_type": "display_data"
    },
    {
     "data": {
      "image/png": "[encoded data removed]",
      "text/plain": [
       "<Figure size 432x288 with 1 Axes>"
      ]
     },
     "metadata": {
      "needs_background": "light"
     },
     "output_type": "display_data"
    }
   ],
   "source": [
    "sayisal_degisken = [\"year\", \"price\", \"mileage\", \"tax\", \"mpg\", \"engineSize\"]\n",
    "for i in sayisal_degisken:\n",
    "    plotHistogram(i)"
   ]
  },
  {
   "cell_type": "code",
   "execution_count": 15,
   "id": "cfdacc3d",
   "metadata": {},
   "outputs": [
    {
     "data": {
      "image/png": "[encoded data removed]",
      "text/plain": [
       "<Figure size 432x288 with 2 Axes>"
      ]
     },
     "metadata": {
      "needs_background": "light"
     },
     "output_type": "display_data"
    }
   ],
   "source": [
    "sns.heatmap(data.corr(method='pearson').drop(\n",
    "  [], axis=1).drop([], axis=0),\n",
    "            annot = True);\n",
    "  \n",
    "plt.show()"
   ]
  },
  {
   "cell_type": "markdown",
   "id": "60d30cfa",
   "metadata": {},
   "source": [
    "# Regresyonu Oluşturma"
   ]
  },
  {
   "cell_type": "code",
   "execution_count": 16,
   "id": "e263ce6c",
   "metadata": {},
   "outputs": [],
   "source": [
    "x=data[[\"mileage\"]]\n",
    "y=data[[\"price\"]]"
   ]
  },
  {
   "cell_type": "code",
   "execution_count": 17,
   "id": "c2ce3474",
   "metadata": {},
   "outputs": [
    {
     "data": {
      "text/plain": [
       "Text(0, 0.5, 'price')"
      ]
     },
     "execution_count": 17,
     "metadata": {},
     "output_type": "execute_result"
    },
    {
     "data": {
      "image/png": "[encoded data removed]",
      "text/plain": [
       "<Figure size 432x288 with 1 Axes>"
      ]
     },
     "metadata": {
      "needs_background": "light"
     },
     "output_type": "display_data"
    }
   ],
   "source": [
    "plt.scatter(x,y)\n",
    "plt.xlabel(\"mileage\", fontsize=15)\n",
    "plt.ylabel(\"price\", fontsize=15)"
   ]
  },
  {
   "cell_type": "code",
   "execution_count": 18,
   "id": "ce967933",
   "metadata": {},
   "outputs": [],
   "source": [
    "#normalizasyon -MinMax Scaller\n",
    "data.mileage=(data.mileage - data.mileage.min())/(data.mileage.max()-data.mileage.min())\n",
    "data.price=(data.price - data.price.min())/(data.price.max()-data.price.min())"
   ]
  },
  {
   "cell_type": "code",
   "execution_count": 19,
   "id": "e0aae400",
   "metadata": {},
   "outputs": [],
   "source": [
    "x=data.mileage\n",
    "y=data.price"
   ]
  },
  {
   "cell_type": "code",
   "execution_count": 20,
   "id": "0ebf2ba9",
   "metadata": {},
   "outputs": [
    {
     "data": {
      "text/plain": [
       "array([0.02855368, 0.21523825, 0.30937125, ..., 0.19045617, 0.23432842,\n",
       "       0.34106897])"
      ]
     },
     "execution_count": 20,
     "metadata": {},
     "output_type": "execute_result"
    }
   ],
   "source": [
    "y.values"
   ]
  },
  {
   "cell_type": "code",
   "execution_count": 21,
   "id": "e64877d3",
   "metadata": {},
   "outputs": [
    {
     "data": {
      "text/plain": [
       "array([0.24324032, 0.10424365, 0.02393446, ..., 0.04483029, 0.00936297,\n",
       "       0.00800775])"
      ]
     },
     "execution_count": 21,
     "metadata": {},
     "output_type": "execute_result"
    }
   ],
   "source": [
    "x.values"
   ]
  },
  {
   "cell_type": "code",
   "execution_count": 22,
   "id": "3d03eca3",
   "metadata": {},
   "outputs": [
    {
     "data": {
      "text/plain": [
       "Text(0.5, 1.0, 'mileage - price arası ilişki')"
      ]
     },
     "execution_count": 22,
     "metadata": {},
     "output_type": "execute_result"
    },
    {
     "data": {
      "image/png": "[encoded data removed]",
      "text/plain": [
       "<Figure size 432x288 with 1 Axes>"
      ]
     },
     "metadata": {
      "needs_background": "light"
     },
     "output_type": "display_data"
    }
   ],
   "source": [
    "#x ve y arasındaki ilişki\n",
    "plt.scatter(x.values, y.values)\n",
    "plt.xlabel(\"mileage\")\n",
    "plt.ylabel(\"price\")\n",
    "plt.title(\"mileage - price arası ilişki\")"
   ]
  },
  {
   "cell_type": "code",
   "execution_count": 23,
   "id": "2b2a5c1e",
   "metadata": {},
   "outputs": [],
   "source": [
    "#Model kurma\n",
    "lr=LinearRegression()"
   ]
  },
  {
   "cell_type": "code",
   "execution_count": 24,
   "id": "387929c8",
   "metadata": {},
   "outputs": [
    {
     "data": {
      "text/plain": [
       "LinearRegression()"
      ]
     },
     "execution_count": 24,
     "metadata": {},
     "output_type": "execute_result"
    }
   ],
   "source": [
    "lr.fit(x.values.reshape(-1,1), y.values.reshape(-1,1))"
   ]
  },
  {
   "cell_type": "code",
   "execution_count": 25,
   "id": "2ebf8e21",
   "metadata": {},
   "outputs": [
    {
     "data": {
      "text/plain": [
       "(array([[-0.48830544]]), array([0.19229864]))"
      ]
     },
     "execution_count": 25,
     "metadata": {},
     "output_type": "execute_result"
    }
   ],
   "source": [
    "lr.coef_, lr.intercept_"
   ]
  },
  {
   "cell_type": "code",
   "execution_count": 26,
   "id": "e40a446b",
   "metadata": {},
   "outputs": [
    {
     "name": "stdout",
     "output_type": "stream",
     "text": [
      "Regresyon modeli mileage =0.19 + -0.49 price\n"
     ]
    }
   ],
   "source": [
    "print(\"Regresyon modeli mileage ={} + {} price\".format(lr.intercept_[0].round(2), lr.coef_[0][0].round(2)))"
   ]
  },
  {
   "cell_type": "code",
   "execution_count": 27,
   "id": "48a1029e",
   "metadata": {},
   "outputs": [],
   "source": [
    "y_predict= lr.predict(x.values.reshape(-1,1))"
   ]
  },
  {
   "cell_type": "code",
   "execution_count": 28,
   "id": "0a30f871",
   "metadata": {},
   "outputs": [
    {
     "data": {
      "text/plain": [
       "array([[0.07352306],\n",
       "       [0.1413959 ],\n",
       "       [0.18061131],\n",
       "       ...,\n",
       "       [0.17040776],\n",
       "       [0.18772665],\n",
       "       [0.18838841]])"
      ]
     },
     "execution_count": 28,
     "metadata": {},
     "output_type": "execute_result"
    }
   ],
   "source": [
    "y_predict"
   ]
  },
  {
   "cell_type": "code",
   "execution_count": 29,
   "id": "bc322d96",
   "metadata": {},
   "outputs": [
    {
     "data": {
      "text/plain": [
       "0.2885990151375222"
      ]
     },
     "execution_count": 29,
     "metadata": {},
     "output_type": "execute_result"
    }
   ],
   "source": [
    "r2_score(y, y_predict)"
   ]
  },
  {
   "cell_type": "code",
   "execution_count": 30,
   "id": "64153e2f",
   "metadata": {},
   "outputs": [
    {
     "data": {
      "text/plain": [
       "0.003929002757935016"
      ]
     },
     "execution_count": 30,
     "metadata": {},
     "output_type": "execute_result"
    }
   ],
   "source": [
    "mean_squared_error(y, y_predict)"
   ]
  },
  {
   "cell_type": "code",
   "execution_count": 31,
   "id": "9c3b60ab",
   "metadata": {},
   "outputs": [
    {
     "data": {
      "text/plain": [
       "0.06268175777636598"
      ]
     },
     "execution_count": 31,
     "metadata": {},
     "output_type": "execute_result"
    }
   ],
   "source": [
    "mean_squared_error(y, y_predict,squared=False) #RMSE"
   ]
  },
  {
   "cell_type": "code",
   "execution_count": 32,
   "id": "c4ddec5c",
   "metadata": {},
   "outputs": [],
   "source": [
    "b0=lr.intercept_[0].round(2)\n",
    "b1=lr.coef_[0][0].round(2)"
   ]
  },
  {
   "cell_type": "code",
   "execution_count": 33,
   "id": "2589828e",
   "metadata": {},
   "outputs": [
    {
     "data": {
      "text/plain": [
       "<matplotlib.collections.PathCollection at 0x1ca581f1520>"
      ]
     },
     "execution_count": 33,
     "metadata": {},
     "output_type": "execute_result"
    },
    {
     "data": {
      "image/png": "[encoded data removed]",
      "text/plain": [
       "<Figure size 432x288 with 1 Axes>"
      ]
     },
     "metadata": {
      "needs_background": "light"
     },
     "output_type": "display_data"
    }
   ],
   "source": [
    "random_x=np.array([0,1])\n",
    "plt.plot(random_x,b0 + b1*random_x, color='blue', label=\"regresyon\")\n",
    "plt.scatter(x.values,y.values)"
   ]
  }
 ],
 "metadata": {
  "kernelspec": {
   "display_name": "Python 3 (ipykernel)",
   "language": "python",
   "name": "python3"
  },
  "language_info": {
   "codemirror_mode": {
    "name": "ipython",
    "version": 3
   },
   "file_extension": ".py",
   "mimetype": "text/x-python",
   "name": "python",
   "nbconvert_exporter": "python",
   "pygments_lexer": "ipython3",
   "version": "3.9.12"
  }
 },
 "nbformat": 4,
 "nbformat_minor": 5
}
